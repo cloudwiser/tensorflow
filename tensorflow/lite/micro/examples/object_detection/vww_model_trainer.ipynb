{
 "cells": [
  {
   "cell_type": "markdown",
   "metadata": {},
   "source": [
    "### Visual Wake Words Model Trainer\n",
    "\n",
    "##### Run as a Jupyter notebook on the GCP AI platform : TF 1.0 : GPU + CUDA\n",
    "\n",
    "##### Note : there are explicit calls to /device:GPU:0 so running the training script on a CPU will exception"
   ]
  },
  {
   "cell_type": "markdown",
   "metadata": {},
   "source": [
    "##### Simple test for GPU presence..."
   ]
  },
  {
   "cell_type": "code",
   "execution_count": null,
   "metadata": {},
   "outputs": [],
   "source": [
    "import tensorflow as tf\n",
    "\n",
    "with tf.device('/cpu:0'):\n",
    "    a_c = tf.constant([1.0, 2.0, 3.0, 4.0, 5.0, 6.0], shape=[2, 3], name='a-cpu')\n",
    "    b_c = tf.constant([1.0, 2.0, 3.0, 4.0, 5.0, 6.0], shape=[3, 2], name='b-cpu')\n",
    "    c_c = tf.matmul(a_c, b_c, name='c-cpu')\n",
    "with tf.device('/gpu:0'):\n",
    "    a_g = tf.constant([1.0, 2.0, 3.0, 4.0, 5.0, 6.0], shape=[2, 3], name='a-gpu')\n",
    "    b_g = tf.constant([1.0, 2.0, 3.0, 4.0, 5.0, 6.0], shape=[3, 2], name='b-gpu')\n",
    "    c_g = tf.matmul(a_g, b_g, name='c-gpu')\n",
    "with tf.Session(config=tf.ConfigProto(log_device_placement=True)) as sess:\n",
    "    print (sess.run(c_c))\n",
    "    print (sess.run(c_g))\n",
    "    \n",
    "print 'DONE!'\n"
   ]
  },
  {
   "cell_type": "markdown",
   "metadata": {},
   "source": [
    "##### Train the model after buidling the dataset\n",
    "##### Note : this can take days on a GPU but useable accuracy should be reached after a few hours"
   ]
  },
  {
   "cell_type": "code",
   "execution_count": null,
   "metadata": {
    "scrolled": true
   },
   "outputs": [],
   "source": [
    "! python models/research/slim/train_image_classifier.py \\\n",
    "    --train_dir=vww_96_grayscale \\\n",
    "    --dataset_name=visualwakewords \\\n",
    "    --dataset_split_name=train \\\n",
    "    --dataset_dir=./visualwakewords \\\n",
    "    --model_name=mobilenet_v1_025 \\\n",
    "    --preprocessing_name=mobilenet_v1 \\\n",
    "    --train_image_size=96 \\\n",
    "    --input_grayscale=True \\\n",
    "    --save_summaries_secs=300 \\\n",
    "    --learning_rate=0.045 \\\n",
    "    --label_smoothing=0.1 \\\n",
    "    --learning_rate_decay_factor=0.98 \\\n",
    "    --num_epochs_per_decay=2.5 \\\n",
    "    --moving_average_decay=0.9999 \\\n",
    "    --batch_size=96 \\\n",
    "    --max_number_of_steps=1000000"
   ]
  }
 ],
 "metadata": {
  "environment": {
   "name": "tf-gpu.1-15.m47",
   "type": "gcloud",
   "uri": "gcr.io/deeplearning-platform-release/tf-gpu.1-15:m47"
  },
  "kernelspec": {
   "display_name": "Python 2",
   "language": "python",
   "name": "python2"
  },
  "language_info": {
   "codemirror_mode": {
    "name": "ipython",
    "version": 2
   },
   "file_extension": ".py",
   "mimetype": "text/x-python",
   "name": "python",
   "nbconvert_exporter": "python",
   "pygments_lexer": "ipython2",
   "version": "2.7.15"
  }
 },
 "nbformat": 4,
 "nbformat_minor": 4
}
